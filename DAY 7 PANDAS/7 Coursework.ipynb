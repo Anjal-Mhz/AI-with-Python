{
 "cells": [
  {
   "cell_type": "code",
   "execution_count": 3,
   "id": "8739d007",
   "metadata": {},
   "outputs": [
    {
     "name": "stdout",
     "output_type": "stream",
     "text": [
      "2.3.0\n",
      "0    10\n",
      "1    20\n",
      "2    30\n",
      "3    40\n",
      "4    50\n",
      "dtype: int64\n"
     ]
    }
   ],
   "source": [
    "import pandas as pd\n",
    "\n",
    "print(pd.__version__)\n",
    "\n",
    "'''\n",
    "pandas tabublar format date(table,spreadsheet)\n",
    "Series =single colum data [sahdsaj]\n",
    "Data Frame= full table data\n",
    "'''\n",
    "\n",
    "data=[10,20,30,40,50]\n",
    "series=pd.Series(data)\n",
    "print(series)"
   ]
  },
  {
   "cell_type": "code",
   "execution_count": null,
   "id": "5d528127",
   "metadata": {},
   "outputs": [
    {
     "name": "stdout",
     "output_type": "stream",
     "text": [
      "{'Name': ['Alia', 'Sita', 'Ram'], 'Gender': ['F', 'F', 'M'], 'Age': [30, 20, 23], 'City': ['Mumbai', 'Janakpur', 'Aayothya']}\n",
      "   Name Gender  Age      City\n",
      "0  Alia      F   30    Mumbai\n",
      "1  Sita      F   20  Janakpur\n",
      "2   Ram      M   23  Aayothya\n"
     ]
    }
   ],
   "source": [
    "#Creating pandas Dataframe\n",
    "\n",
    "#manually data entry\n",
    "#Data structure list, tuple, dictionary, set\n",
    "\n",
    "data={\n",
    "    'Name':['Alia','Sita','Ram'],\n",
    "    'Gender':['F','F','M'],\n",
    "    'Age':[30,20,23],\n",
    "    'City':['Mumbai','Janakpur','Aayothya']\n",
    "}\n",
    "\n",
    "print(data)\n",
    "df=pd.DataFrame(data)\n",
    "print(df)"
   ]
  },
  {
   "cell_type": "code",
   "execution_count": null,
   "id": "eeb0a547",
   "metadata": {},
   "outputs": [
    {
     "data": {
      "text/html": [
       "<div>\n",
       "<style scoped>\n",
       "    .dataframe tbody tr th:only-of-type {\n",
       "        vertical-align: middle;\n",
       "    }\n",
       "\n",
       "    .dataframe tbody tr th {\n",
       "        vertical-align: top;\n",
       "    }\n",
       "\n",
       "    .dataframe thead th {\n",
       "        text-align: right;\n",
       "    }\n",
       "</style>\n",
       "<table border=\"1\" class=\"dataframe\">\n",
       "  <thead>\n",
       "    <tr style=\"text-align: right;\">\n",
       "      <th></th>\n",
       "      <th>Unnamed: 0</th>\n",
       "      <th>Name</th>\n",
       "      <th>Gender</th>\n",
       "      <th>Age</th>\n",
       "      <th>City</th>\n",
       "    </tr>\n",
       "  </thead>\n",
       "  <tbody>\n",
       "    <tr>\n",
       "      <th>0</th>\n",
       "      <td>0</td>\n",
       "      <td>Alia</td>\n",
       "      <td>F</td>\n",
       "      <td>30</td>\n",
       "      <td>Mumbai</td>\n",
       "    </tr>\n",
       "    <tr>\n",
       "      <th>1</th>\n",
       "      <td>1</td>\n",
       "      <td>Sita</td>\n",
       "      <td>F</td>\n",
       "      <td>20</td>\n",
       "      <td>Janakpur</td>\n",
       "    </tr>\n",
       "    <tr>\n",
       "      <th>2</th>\n",
       "      <td>2</td>\n",
       "      <td>Ram</td>\n",
       "      <td>M</td>\n",
       "      <td>23</td>\n",
       "      <td>Aayothya</td>\n",
       "    </tr>\n",
       "  </tbody>\n",
       "</table>\n",
       "</div>"
      ],
      "text/plain": [
       "   Unnamed: 0  Name Gender  Age      City\n",
       "0           0  Alia      F   30    Mumbai\n",
       "1           1  Sita      F   20  Janakpur\n",
       "2           2   Ram      M   23  Aayothya"
      ]
     },
     "execution_count": 4,
     "metadata": {},
     "output_type": "execute_result"
    }
   ],
   "source": [
    "\n",
    "\n",
    "data={\n",
    "    'Name':['Alia','Sita','Ram'],\n",
    "    'Gender':['F','F','M'],\n",
    "    'Age':[30,20,23],\n",
    "    'City':['Mumbai','Janakpur','Aayothya']\n",
    "}\n",
    "df=pd.DataFrame(data)\n",
    "df.to_csv('sample.csv', index=False)\n",
    "pd.read_csv('sample.csv')"
   ]
  },
  {
   "cell_type": "code",
   "execution_count": 4,
   "id": "c6a0b464",
   "metadata": {},
   "outputs": [],
   "source": [
    "# pd.read_excel('abc.xlsr',sheet_name='Sheet1')\n",
    "\n",
    "# df.to_excel('output.xlsr',index=False)"
   ]
  },
  {
   "cell_type": "code",
   "execution_count": 8,
   "id": "38dc0b80",
   "metadata": {},
   "outputs": [
    {
     "name": "stdout",
     "output_type": "stream",
     "text": [
      "...........\n",
      "Empty DataFrame\n",
      "Columns: [Name, Gender, Age, City]\n",
      "Index: []\n"
     ]
    }
   ],
   "source": [
    "\n",
    "#Data correction and modification\n",
    "\n",
    "data1={\n",
    "    'Name':['Alia','Sita',None],\n",
    "    'Gender':['F','F','M'],\n",
    "    'Age':[30,None,23],\n",
    "    'City':[None,'Janakpur','Aayothya']\n",
    "}\n",
    "df=pd.DataFrame(data1)\n",
    "\n",
    "print('...........')\n",
    "df2=df.dropna() #Drop null values\n",
    "print(df2)\n",
    "\n"
   ]
  },
  {
   "cell_type": "code",
   "execution_count": 9,
   "id": "06c13251",
   "metadata": {},
   "outputs": [
    {
     "name": "stdout",
     "output_type": "stream",
     "text": [
      "...........\n",
      "   Name Gender   Age      City\n",
      "0  Alia      F  30.0         0\n",
      "1  Sita      F   0.0  Janakpur\n",
      "2     0      M  23.0  Aayothya\n"
     ]
    }
   ],
   "source": [
    "print('...........')\n",
    "df3=df.fillna(0)\n",
    "print(df3)\n"
   ]
  },
  {
   "cell_type": "code",
   "execution_count": 10,
   "id": "4e352292",
   "metadata": {},
   "outputs": [
    {
     "name": "stdout",
     "output_type": "stream",
     "text": [
      "...........\n",
      "   Name Gender   Age      City\n",
      "0  Alia      F  30.0      None\n",
      "1  Sita      F   NaN  Janakpur\n",
      "2  None      M  23.0  Aayothya\n",
      "...........\n"
     ]
    }
   ],
   "source": [
    "print('...........')\n",
    "df4=df.drop_duplicates()\n",
    "print(df4)\n",
    "print('...........')"
   ]
  },
  {
   "cell_type": "code",
   "execution_count": null,
   "id": "171ea048",
   "metadata": {},
   "outputs": [
    {
     "name": "stdout",
     "output_type": "stream",
     "text": [
      "  ActressName Gender   Age      City\n",
      "0        Alia      F  30.0      None\n",
      "1        Sita      F   NaN  Janakpur\n",
      "2        None      M  23.0  Aayothya\n",
      "...........\n"
     ]
    }
   ],
   "source": [
    "#Rename columns\n",
    "\n",
    "df.rename(columns={'Name':'ActressName'},inplace=True)\n",
    "print(df)\n",
    "print('...........')\n"
   ]
  },
  {
   "cell_type": "code",
   "execution_count": null,
   "id": "1d735ada",
   "metadata": {},
   "outputs": [
    {
     "name": "stdout",
     "output_type": "stream",
     "text": [
      "      Name  Age     City\n",
      "0    Alice   25       NY\n",
      "1      Bob   17       LA\n",
      "2  Charlie   35  Chicago\n",
      "3    David   40       NY\n",
      "...........\n",
      "      Name  Age     City\n",
      "0    Alice   25       NY\n",
      "2  Charlie   35  Chicago\n",
      "3    David   40       NY\n",
      "...........\n"
     ]
    }
   ],
   "source": [
    "df = pd. DataFrame ({\n",
    "'Name': ['Alice', 'Bob' , 'Charlie' , 'David' ],\n",
    "'Age': [25, 17, 35, 40],\n",
    "'City': ['NY' , 'LA' , 'Chicago' , 'NY' ]\n",
    "})\n",
    "\n",
    "print(df)\n",
    "print('...........')\n",
    "\n",
    "adults=df[df['Age']>18]\n",
    "print(adults)\n",
    "print('...........')"
   ]
  },
  {
   "cell_type": "code",
   "execution_count": 15,
   "id": "c733d207",
   "metadata": {},
   "outputs": [
    {
     "name": "stdout",
     "output_type": "stream",
     "text": [
      "      Name  Age     City\n",
      "3    David   40       NY\n",
      "2  Charlie   35  Chicago\n",
      "0    Alice   25       NY\n",
      "1      Bob   17       LA\n"
     ]
    }
   ],
   "source": [
    "df.sort_values(by='Age',ascending=False,inplace=True)\n",
    "print(df)"
   ]
  },
  {
   "cell_type": "code",
   "execution_count": 16,
   "id": "85703f0c",
   "metadata": {},
   "outputs": [
    {
     "name": "stdout",
     "output_type": "stream",
     "text": [
      "29.25\n",
      "...........\n",
      "City\n",
      "NY         2\n",
      "Chicago    1\n",
      "LA         1\n",
      "Name: count, dtype: int64\n"
     ]
    }
   ],
   "source": [
    "print(df['Age'].mean())\n",
    "print('...........')\n",
    "print(df['City'].value_counts())"
   ]
  },
  {
   "cell_type": "code",
   "execution_count": 19,
   "id": "5a5490a4",
   "metadata": {},
   "outputs": [
    {
     "name": "stdout",
     "output_type": "stream",
     "text": [
      "(4, 3)\n",
      "...........\n",
      "    Name  Age City\n",
      "3  David   40   NY\n",
      "...........\n",
      "    Name  Age City\n",
      "0  Alice   25   NY\n",
      "1    Bob   17   LA\n",
      "...........\n"
     ]
    }
   ],
   "source": [
    "print(df.shape)\n",
    "print('...........')\n",
    "print(df.head(1))\n",
    "print('...........')\n",
    "print(df.tail(2))\n",
    "print('...........')\n"
   ]
  },
  {
   "cell_type": "code",
   "execution_count": 18,
   "id": "f3264fcc",
   "metadata": {},
   "outputs": [
    {
     "name": "stdout",
     "output_type": "stream",
     "text": [
      "      Name  Age     City\n",
      "1      Bob   17       LA\n",
      "2  Charlie   35  Chicago\n",
      "0    Alice   25       NY\n",
      "...........\n",
      "    Name    Age   City\n",
      "3  False  False  False\n",
      "2  False  False  False\n",
      "0  False  False  False\n",
      "1  False  False  False\n",
      "...........\n",
      "Name    0\n",
      "Age     0\n",
      "City    0\n",
      "dtype: int64\n",
      "...........\n"
     ]
    }
   ],
   "source": [
    "print(df.sample(3))\n",
    "print('...........')\n",
    "print(df.isnull())\n",
    "print('...........')\n",
    "print(df.isnull().sum())\n",
    "print('...........')"
   ]
  },
  {
   "cell_type": "code",
   "execution_count": 20,
   "id": "c3b11982",
   "metadata": {},
   "outputs": [
    {
     "name": "stdout",
     "output_type": "stream",
     "text": [
      "(4, 3)\n",
      "...........\n",
      "(4, 3)\n",
      "...........\n"
     ]
    }
   ],
   "source": [
    "df1=df.dropna()\n",
    "print(df1.shape)\n",
    "print('...........')\n",
    "\n",
    "df2=df.dropna(axis=1, thresh=df.shape[0]*0.5)\n",
    "print(df.shape)\n",
    "print('...........')\n",
    "#print(df.dropna('City'))"
   ]
  }
 ],
 "metadata": {
  "kernelspec": {
   "display_name": "Python 3",
   "language": "python",
   "name": "python3"
  },
  "language_info": {
   "codemirror_mode": {
    "name": "ipython",
    "version": 3
   },
   "file_extension": ".py",
   "mimetype": "text/x-python",
   "name": "python",
   "nbconvert_exporter": "python",
   "pygments_lexer": "ipython3",
   "version": "3.13.3"
  }
 },
 "nbformat": 4,
 "nbformat_minor": 5
}
