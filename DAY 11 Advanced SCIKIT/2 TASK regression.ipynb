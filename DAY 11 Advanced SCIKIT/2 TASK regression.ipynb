{
 "cells": [
  {
   "cell_type": "code",
   "execution_count": null,
   "id": "32054a5b",
   "metadata": {},
   "outputs": [],
   "source": [
    "#REGRESSION TYPE DATASET\n",
    "\n",
    "\n",
    "# eg diabetic dataset form sklearn \n",
    "# done in 11 classwork\n",
    "#for regression type dataset (linear regression model) works best"
   ]
  }
 ],
 "metadata": {
  "language_info": {
   "name": "python"
  }
 },
 "nbformat": 4,
 "nbformat_minor": 5
}
