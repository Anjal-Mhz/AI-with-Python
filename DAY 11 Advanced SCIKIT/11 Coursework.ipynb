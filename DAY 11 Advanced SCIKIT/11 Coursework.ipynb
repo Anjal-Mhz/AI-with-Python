{
 "cells": [
  {
   "cell_type": "code",
   "execution_count": 1,
   "id": "c4f585a1",
   "metadata": {},
   "outputs": [
    {
     "data": {
      "text/plain": [
       "array([[-0.90068117,  1.01900435, -1.34022653, -1.3154443 ],\n",
       "       [-1.14301691, -0.13197948, -1.34022653, -1.3154443 ],\n",
       "       [-1.38535265,  0.32841405, -1.39706395, -1.3154443 ],\n",
       "       [-1.50652052,  0.09821729, -1.2833891 , -1.3154443 ],\n",
       "       [-1.02184904,  1.24920112, -1.34022653, -1.3154443 ]])"
      ]
     },
     "execution_count": 1,
     "metadata": {},
     "output_type": "execute_result"
    }
   ],
   "source": [
    "#feature scaling\n",
    "#standard scaler\n",
    "#mean=0 and standard deviation=1\n",
    "\n",
    "from sklearn.preprocessing import StandardScaler\n",
    "from sklearn.datasets import load_iris\n",
    "\n",
    "iris=load_iris()\n",
    "X=iris.data\n",
    "scaler=StandardScaler()\n",
    "X_scaled=scaler.fit_transform(X)\n",
    "X_scaled[:5]"
   ]
  },
  {
   "cell_type": "code",
   "execution_count": null,
   "id": "0642840b",
   "metadata": {},
   "outputs": [
    {
     "data": {
      "text/plain": [
       "array([[0.22222222, 0.625     , 0.06779661, 0.04166667],\n",
       "       [0.16666667, 0.41666667, 0.06779661, 0.04166667],\n",
       "       [0.11111111, 0.5       , 0.05084746, 0.04166667],\n",
       "       [0.08333333, 0.45833333, 0.08474576, 0.04166667],\n",
       "       [0.19444444, 0.66666667, 0.06779661, 0.04166667]])"
      ]
     },
     "execution_count": 2,
     "metadata": {},
     "output_type": "execute_result"
    }
   ],
   "source": [
    "#Min max scaler\n",
    "\n",
    "from sklearn.preprocessing import MinMaxScaler\n",
    "scaler=MinMaxScaler()\n",
    "X_scaled=scaler.fit_transform(X)\n",
    "X_scaled[:5]\n"
   ]
  },
  {
   "cell_type": "code",
   "execution_count": null,
   "id": "f3871f22",
   "metadata": {},
   "outputs": [],
   "source": [
    "#Splitting the data\n",
    "\n",
    "from sklearn.model_selection import train_test_split\n",
    "\n",
    "X_train, X_test,y_train,y_test =train_test_split(X_scaled, iris.target,test_size=0.2, random_state=42)\n",
    "\n",
    "'''\n",
    "Under fitting= less data reads (not enough data train)\n",
    "Apropriate fitting\n",
    "Over fitting= all data reads (over) (can't answer new ques)\n",
    "'''"
   ]
  },
  {
   "cell_type": "code",
   "execution_count": null,
   "id": "7c68ad26",
   "metadata": {},
   "outputs": [
    {
     "name": "stdout",
     "output_type": "stream",
     "text": [
      "MSE:2900.19\n",
      "R squared socre:0.45\n"
     ]
    }
   ],
   "source": [
    "#Implementing different  machine learning models\n",
    "\n",
    "from sklearn.linear_model import LinearRegression\n",
    "from sklearn.datasets import load_diabetes\n",
    "from sklearn.metrics import mean_squared_error, r2_score\n",
    "\n",
    "#Load dataset\n",
    "diabetes=load_diabetes()\n",
    "X=diabetes.data\n",
    "y=diabetes.target\n",
    "\n",
    "#Split data\n",
    "X_train, X_test,y_train,y_test =train_test_split(X, y,test_size=0.2, random_state=42)\n",
    "\n",
    "#Train the model\n",
    "model=LinearRegression()\n",
    "model.fit(X_train,y_train)\n",
    "\n",
    "#Predict\n",
    "y_pred=model.predict(X_test)\n",
    "\n",
    "#Module Eualuation\n",
    "#accuracy is for classification modules\n",
    "#This is regression module\n",
    "print(\"Linear regression module\")\n",
    "mse=mean_squared_error(y_test,y_pred)\n",
    "print(f'MSE:{mse:.2f}')\n",
    "r2=r2_score(y_test,y_pred)\n",
    "print(f\"R squared socre:{r2:.2f}\")"
   ]
  },
  {
   "cell_type": "code",
   "execution_count": 5,
   "id": "a6d5de43",
   "metadata": {},
   "outputs": [
    {
     "name": "stdout",
     "output_type": "stream",
     "text": [
      "MSE:4976.80\n",
      "R squared socre:0.06\n"
     ]
    }
   ],
   "source": [
    "from sklearn.tree import DecisionTreeRegressor\n",
    "\n",
    "#load done\n",
    "#split done\n",
    "\n",
    "#Train the model \n",
    "model=DecisionTreeRegressor(random_state=42)\n",
    "model.fit(X_train,y_train)\n",
    "\n",
    "#Predict\n",
    "y_pred=model.predict(X_test)\n",
    "\n",
    "mse=mean_squared_error(y_test,y_pred)\n",
    "print(f'MSE:{mse:.2f}')\n",
    "r2=r2_score(y_test,y_pred)\n",
    "print(f\"R squared socre:{r2:.2f}\")"
   ]
  },
  {
   "cell_type": "code",
   "execution_count": 6,
   "id": "45464dfd",
   "metadata": {},
   "outputs": [
    {
     "name": "stdout",
     "output_type": "stream",
     "text": [
      "MSE:5190.39\n",
      "R squared socre:0.02\n"
     ]
    }
   ],
   "source": [
    "from sklearn.svm import SVR\n",
    "\n",
    "#load done\n",
    "#split done\n",
    "\n",
    "# Model training\n",
    "model=SVR(kernel=\"linear\")\n",
    "model.fit(X_train,y_train)\n",
    "\n",
    "#Prediction\n",
    "y_pred=model.predict(X_test)\n",
    "\n",
    "mse=mean_squared_error(y_test,y_pred)\n",
    "print(f'MSE:{mse:.2f}')\n",
    "r2=r2_score(y_test,y_pred)\n",
    "print(f\"R squared socre:{r2:.2f}\")\n"
   ]
  }
 ],
 "metadata": {
  "kernelspec": {
   "display_name": "Python 3",
   "language": "python",
   "name": "python3"
  },
  "language_info": {
   "codemirror_mode": {
    "name": "ipython",
    "version": 3
   },
   "file_extension": ".py",
   "mimetype": "text/x-python",
   "name": "python",
   "nbconvert_exporter": "python",
   "pygments_lexer": "ipython3",
   "version": "3.13.3"
  }
 },
 "nbformat": 4,
 "nbformat_minor": 5
}
